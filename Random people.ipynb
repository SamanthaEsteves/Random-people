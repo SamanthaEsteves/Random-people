{
 "cells": [
  {
   "cell_type": "code",
   "execution_count": 1,
   "metadata": {},
   "outputs": [],
   "source": [
    "# Importando bibliotecas\n",
    "\n",
    "from faker import Faker\n",
    "import random\n",
    "import pandas as pd\n"
   ]
  },
  {
   "cell_type": "code",
   "execution_count": 2,
   "metadata": {},
   "outputs": [],
   "source": [
    "# Criando os dados\n",
    "\n",
    "faker = Faker(\"pt_BR\")\n",
    "\n",
    "def creating_data(rows):\n",
    "\n",
    "    company_id = []\n",
    "    name = []\n",
    "    state = []\n",
    "    number = []\n",
    "    rg = []\n",
    "    cpf = []\n",
    "    sales_A1 = []\n",
    "    sales_A2 = []\n",
    "    sales_A3 = []\n",
    "    company = []\n",
    "    companies = [\"Lojas Americanas\", \"Magazine Luísa\", \"Amazon\", \"Mercado Livre\", \"Busca Pé\", \"Dafiti\", \"Shopee\"]\n",
    "    e_mail = []\n",
    "\n",
    "    for row in range(rows):\n",
    "        company_id.append(faker.company_id())\n",
    "        name.append(faker.name())\n",
    "        state.append(faker.state_abbr())\n",
    "        number.append(faker.cellphone_number())\n",
    "        rg.append(faker.rg())\n",
    "        cpf.append(faker.cpf())\n",
    "        sales_A1.append(random.randint(10000, 50000))\n",
    "        sales_A2.append(random.randint(10000, 70000))\n",
    "        sales_A3.append(random.randint(10000, 80000))\n",
    "        company.append(random.choice(companies))\n",
    "        e_mail.append(name[row].lower().replace(\" \", \"_\") + \"@empresa.com\")\n",
    "        global data \n",
    "        data = [company_id, name, state, number, rg, cpf, sales_A1, sales_A2, sales_A3, company, e_mail] "
   ]
  },
  {
   "cell_type": "code",
   "execution_count": 3,
   "metadata": {},
   "outputs": [],
   "source": [
    "# Chamando programa e salvando as informações em um arquivo excel\n",
    "\n",
    "rows = int(input(\"Insira o número de linhas que deseja que a planilha tenha!\\n\"))\n",
    "creating_data(rows)\n",
    "\n",
    "table = pd.DataFrame(data)\n",
    "table_arranged = table.transpose()\n",
    "table_arranged.columns = [\"Company_id\", \"Name\", \"State\", \"Number\", \"RG\", \"CPF\", \"Sales_A1\", \"Sales_A2\",\"Sales_A3\", \"Company\", \"Email\"]\n",
    "table_arranged.drop(0)\n",
    "file_name = \"Table.xlsx\"\n",
    "table_arranged.to_excel(file_name, index = False)\n"
   ]
  }
 ],
 "metadata": {
  "kernelspec": {
   "display_name": "Python 3.10.4 64-bit",
   "language": "python",
   "name": "python3"
  },
  "language_info": {
   "codemirror_mode": {
    "name": "ipython",
    "version": 3
   },
   "file_extension": ".py",
   "mimetype": "text/x-python",
   "name": "python",
   "nbconvert_exporter": "python",
   "pygments_lexer": "ipython3",
   "version": "3.10.7"
  },
  "orig_nbformat": 4,
  "vscode": {
   "interpreter": {
    "hash": "efb7a97d474e1365eb3cc1499572f8bbefdf3cf8bd59fd2202ae78240eb011e1"
   }
  }
 },
 "nbformat": 4,
 "nbformat_minor": 2
}
